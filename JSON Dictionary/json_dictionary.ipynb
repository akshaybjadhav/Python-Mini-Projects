{
 "cells": [
  {
   "cell_type": "markdown",
   "id": "1fbeb0f6",
   "metadata": {},
   "source": [
    "# JSON Dictionary"
   ]
  },
  {
   "cell_type": "code",
   "execution_count": 3,
   "id": "cfb44912",
   "metadata": {},
   "outputs": [
    {
     "name": "stdout",
     "output_type": "stream",
     "text": [
      "Enter Word: Book\n",
      "A collection of sheets of paper bound together to hinge at one edge, containing printed or written material, pictures, etc.\n",
      "Part of a larger published work.\n",
      "To record in a register.\n",
      "To arrange for (something for someone else) in advance.\n",
      "To engage for a performance.\n"
     ]
    }
   ],
   "source": [
    "import json\n",
    "from difflib import SequenceMatcher, get_close_matches\n",
    "data = json.load(open('dictionary.json'))\n",
    "\n",
    "\n",
    "def dictionary(w):\n",
    "    w=w.lower()\n",
    "    if w in data:\n",
    "        return data[w]\n",
    "    elif w.title() in data: \n",
    "        return data[w.title()]\n",
    "    elif w.upper() in data:\n",
    "        return data[w.upper()]\n",
    "    elif len(get_close_matches(w,data.keys()))>0:\n",
    "            yes_no = input('Did you mean %s instead ? Type Y for Yes or N for No'%get_close_matches(w,data.keys())[0])\n",
    "            if yes_no == 'Y' or 'y':\n",
    "                return data[get_close_matches(w,data.keys())[0]]\n",
    "            elif yes_no == 'N' or 'n':\n",
    "                return 'The Word is not present. Please Double Check it'\n",
    "            else:\n",
    "                return \"we didn't understand your entry......\"\n",
    "            \n",
    "    else:\n",
    "        print('this word does not exist')\n",
    "\n",
    "word = input('Enter Word: ')\n",
    "output = dictionary(word)\n",
    "\n",
    "if type(output) == list:\n",
    "    for i in output:\n",
    "        print(i)\n",
    "else:\n",
    "    print(output)"
   ]
  },
  {
   "cell_type": "code",
   "execution_count": null,
   "id": "83af4afc",
   "metadata": {},
   "outputs": [],
   "source": []
  }
 ],
 "metadata": {
  "kernelspec": {
   "display_name": "Python 3",
   "language": "python",
   "name": "python3"
  },
  "language_info": {
   "codemirror_mode": {
    "name": "ipython",
    "version": 3
   },
   "file_extension": ".py",
   "mimetype": "text/x-python",
   "name": "python",
   "nbconvert_exporter": "python",
   "pygments_lexer": "ipython3",
   "version": "3.8.8"
  }
 },
 "nbformat": 4,
 "nbformat_minor": 5
}
