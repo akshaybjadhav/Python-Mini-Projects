{
 "cells": [
  {
   "cell_type": "code",
   "execution_count": 16,
   "id": "99713f55",
   "metadata": {},
   "outputs": [
    {
     "name": "stdout",
     "output_type": "stream",
     "text": [
      "Collecting pypng\n",
      "  Downloading pypng-0.0.21-py3-none-any.whl (48 kB)\n",
      "Installing collected packages: pypng\n",
      "Successfully installed pypng-0.0.21\n",
      "Note: you may need to restart the kernel to use updated packages.\n"
     ]
    }
   ],
   "source": [
    "pip install pypng"
   ]
  },
  {
   "cell_type": "code",
   "execution_count": 17,
   "id": "37d0a538",
   "metadata": {},
   "outputs": [],
   "source": [
    "pip install pyqrcode"
   ]
  },
  {
   "cell_type": "code",
   "execution_count": 6,
   "id": "da34ae99",
   "metadata": {},
   "outputs": [
    {
     "name": "stdout",
     "output_type": "stream",
     "text": [
      "Enter Text: Happy Coding\n",
      "Barcode Created Successfully, Look for Barcode.png\n"
     ]
    }
   ],
   "source": [
    "import pyqrcode\n",
    "import png\n",
    "\n",
    "x=input('Enter Text: ')\n",
    "img=pyqrcode.create(x)\n",
    "img.svg(\"Barcode_svg.svg\", scale = 8)  \n",
    "img.png('Barcode.png', scale = 6)\n",
    "print('Barcode Created Successfully, Look for Barcode.png')"
   ]
  },
  {
   "cell_type": "code",
   "execution_count": null,
   "id": "2718e82b",
   "metadata": {},
   "outputs": [],
   "source": []
  }
 ],
 "metadata": {
  "kernelspec": {
   "display_name": "Python 3",
   "language": "python",
   "name": "python3"
  },
  "language_info": {
   "codemirror_mode": {
    "name": "ipython",
    "version": 3
   },
   "file_extension": ".py",
   "mimetype": "text/x-python",
   "name": "python",
   "nbconvert_exporter": "python",
   "pygments_lexer": "ipython3",
   "version": "3.8.8"
  }
 },
 "nbformat": 4,
 "nbformat_minor": 5
}
