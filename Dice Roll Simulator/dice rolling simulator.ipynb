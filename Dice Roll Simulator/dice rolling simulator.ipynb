{
 "cells": [
  {
   "cell_type": "markdown",
   "id": "23bc741d",
   "metadata": {},
   "source": [
    "# Dice Roll Simulator"
   ]
  },
  {
   "cell_type": "markdown",
   "id": "4435fb62",
   "metadata": {},
   "source": [
    "## method 1"
   ]
  },
  {
   "cell_type": "code",
   "execution_count": 1,
   "id": "e62d93b5",
   "metadata": {},
   "outputs": [
    {
     "name": "stdout",
     "output_type": "stream",
     "text": [
      "Rolling the dice...\n",
      "The value:  5\n",
      "\n",
      "\n",
      "Roll the dice again ? yes\n",
      "Rolling the dice...\n",
      "The value:  4\n",
      "\n",
      "\n",
      "Roll the dice again ? y\n",
      "Rolling the dice...\n",
      "The value:  5\n",
      "\n",
      "\n",
      "Roll the dice again ? n\n"
     ]
    }
   ],
   "source": [
    "import numpy as np\n",
    "min = 1\n",
    "max = 6\n",
    "\n",
    "roll_again = \"yes\"\n",
    "\n",
    "while roll_again == \"yes\" or roll_again == \"y\" or roll_again == \"Y\":\n",
    "    print (\"Rolling the dice...\")\n",
    "    print( \"The value: \",np.random.randint(min, max))\n",
    "    print('\\n')\n",
    "    roll_again = input(\"Roll the dice again ? \")"
   ]
  },
  {
   "cell_type": "code",
   "execution_count": null,
   "id": "34d0f8d7",
   "metadata": {},
   "outputs": [],
   "source": []
  },
  {
   "cell_type": "markdown",
   "id": "bece6460",
   "metadata": {},
   "source": [
    "## method 2"
   ]
  },
  {
   "cell_type": "code",
   "execution_count": 2,
   "id": "72ee5330",
   "metadata": {},
   "outputs": [
    {
     "name": "stdout",
     "output_type": "stream",
     "text": [
      "[     ]\n",
      "[0 0 0]\n",
      "[     ]\n",
      "Press y or Y to Roll Again or any other Key to Exit: y\n",
      "[0   0]\n",
      "[     ]\n",
      "[0   0]\n",
      "Press y or Y to Roll Again or any other Key to Exit: Y\n",
      "[0   0]\n",
      "[     ]\n",
      "[0   0]\n",
      "Press y or Y to Roll Again or any other Key to Exit: n\n",
      "-----Game Ends-----\n"
     ]
    }
   ],
   "source": [
    "import numpy as np\n",
    "  \n",
    "x = 'y'  \n",
    "while x == \"y\" or x == \"Y\": \n",
    "    no = np.random.randint(1,6)\n",
    "      \n",
    "    if no == 1:\n",
    "        print(\"[     ]\")\n",
    "        print(\"[  0  ]\")\n",
    "        print(\"[     ]\")\n",
    "    if no == 2:\n",
    "        print(\"[ 0   ]\")\n",
    "        print(\"[     ]\")\n",
    "        print(\"[   0 ]\")\n",
    "    if no == 3:\n",
    "        print(\"[     ]\")\n",
    "        print(\"[0 0 0]\")\n",
    "        print(\"[     ]\")\n",
    "    if no == 4:\n",
    "        print(\"[0   0]\")\n",
    "        print(\"[     ]\")\n",
    "        print(\"[0   0]\")\n",
    "    if no == 5:\n",
    "        print(\"[0   0]\")\n",
    "        print(\"[  0  ]\")\n",
    "        print(\"[0   0]\")\n",
    "    if no == 6:\n",
    "        print(\"[0 0 0]\")\n",
    "        print(\"[     ]\")\n",
    "        print(\"[0 0 0]\")\n",
    "          \n",
    "    x=input(\"Press y or Y to Roll Again or any other Key to Exit: \")\n",
    "    \n",
    "print('-----Game Ends-----')"
   ]
  },
  {
   "cell_type": "code",
   "execution_count": null,
   "id": "c04130dd",
   "metadata": {},
   "outputs": [],
   "source": []
  },
  {
   "cell_type": "markdown",
   "id": "ce140c74",
   "metadata": {},
   "source": [
    "## method 3"
   ]
  },
  {
   "cell_type": "code",
   "execution_count": 3,
   "id": "bc8f6124",
   "metadata": {},
   "outputs": [],
   "source": [
    "import tkinter as tk\n",
    "from PIL import Image, ImageTk\n",
    "import random\n",
    "\n",
    "# adding images\n",
    "dice = [\"die1.png\", \"die2.png\", \"die3.png\", \"die4.png\", \"die5.png\", \"die6.png\"]\n",
    "root = tk.Tk()\n",
    "root.title(\"Dice Simulator\")\n",
    "root.geometry(\"500x400\")\n",
    "\n",
    "# lable\n",
    "l1 = tk.Label(root, text=\"Dice Simulator\", fg=\"yellow\", bg=\"black\", font=\"Helvetica 16\")\n",
    "l1.pack()\n",
    "img = ImageTk.PhotoImage(Image.open(random.choice(dice)))\n",
    "\n",
    "# img lable\n",
    "l2 = tk.Label(root, image=img)\n",
    "l2.image = img\n",
    "l2.pack()\n",
    "\n",
    "\n",
    "def roll():\n",
    "    img = ImageTk.PhotoImage(Image.open(random.choice(dice)))\n",
    "    l2.configure(image=img)\n",
    "    l2.image = img\n",
    "\n",
    "\n",
    "# button\n",
    "button = tk.Button(root, text=\"Roll The Dice\", fg='blue', command=roll)\n",
    "button.pack()\n",
    "\n",
    "root.mainloop()"
   ]
  },
  {
   "cell_type": "code",
   "execution_count": null,
   "id": "0aed3c48",
   "metadata": {},
   "outputs": [],
   "source": []
  },
  {
   "cell_type": "code",
   "execution_count": null,
   "id": "550b458c",
   "metadata": {},
   "outputs": [],
   "source": []
  }
 ],
 "metadata": {
  "kernelspec": {
   "display_name": "Python 3",
   "language": "python",
   "name": "python3"
  },
  "language_info": {
   "codemirror_mode": {
    "name": "ipython",
    "version": 3
   },
   "file_extension": ".py",
   "mimetype": "text/x-python",
   "name": "python",
   "nbconvert_exporter": "python",
   "pygments_lexer": "ipython3",
   "version": "3.8.8"
  }
 },
 "nbformat": 4,
 "nbformat_minor": 5
}
