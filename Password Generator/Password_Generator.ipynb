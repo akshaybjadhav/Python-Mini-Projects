{
 "cells": [
  {
   "cell_type": "code",
   "execution_count": 4,
   "id": "af7a163c",
   "metadata": {},
   "outputs": [
    {
     "name": "stdout",
     "output_type": "stream",
     "text": [
      "PASSWORD GENERATED: &3Y1Bd.7FnZL0uy\n"
     ]
    }
   ],
   "source": [
    "import random\n",
    "lower = \"abcdefghijklmnopqrstuvwxyz\"\n",
    "upper = \"ABCDEFGHIJKLMNOPQRSTUVWXYZ\"\n",
    "numbers = \"0123456789\"\n",
    "symbols = \"!@#$%^&*-_+/.,?\"\n",
    "all = lower + upper + numbers + symbols\n",
    "length = 15\n",
    "password = \"\".join(random.sample(all,length))\n",
    "print(\"PASSWORD GENERATED:\",password)"
   ]
  },
  {
   "cell_type": "code",
   "execution_count": null,
   "id": "0a3ad10f",
   "metadata": {},
   "outputs": [],
   "source": []
  }
 ],
 "metadata": {
  "kernelspec": {
   "display_name": "Python 3",
   "language": "python",
   "name": "python3"
  },
  "language_info": {
   "codemirror_mode": {
    "name": "ipython",
    "version": 3
   },
   "file_extension": ".py",
   "mimetype": "text/x-python",
   "name": "python",
   "nbconvert_exporter": "python",
   "pygments_lexer": "ipython3",
   "version": "3.8.8"
  }
 },
 "nbformat": 4,
 "nbformat_minor": 5
}
